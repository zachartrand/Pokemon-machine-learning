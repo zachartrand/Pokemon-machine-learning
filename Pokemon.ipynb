{
 "cells": [
  {
   "cell_type": "code",
   "execution_count": null,
   "id": "64b029e3-3b89-4c8e-8463-a35752b376c5",
   "metadata": {},
   "outputs": [],
   "source": [
    "# -*- coding: utf-8 -*-\n",
    "import pandas as pd"
   ]
  },
  {
   "cell_type": "markdown",
   "id": "ba6c2ae0-847c-4bee-84e7-944b32f0912b",
   "metadata": {},
   "source": [
    "Create addToList function, create lists of Pokedex numbers of starters,\n",
    "pseudo-legendaries, legendaries, mythical, fossils, and ultra beasts:"
   ]
  },
  {
   "cell_type": "code",
   "execution_count": null,
   "id": "5c3bbbbb-7a42-4ba4-b06e-b76b634b1d78",
   "metadata": {},
   "outputs": [],
   "source": [
    "def addToList(start, end, List):\n",
    "    \"\"\"\n",
    "    Adds numbers to the given List from the start value to the end\n",
    "    value inclusive.\n",
    "    \n",
    "    start: int, beginning of range\n",
    "    end: int, end of range\n",
    "    List: list, the list to append the values to.\n",
    "    \"\"\"\n",
    "    for i in range(start, end + 1):\n",
    "        List.append(i)\n",
    "\n",
    "starters = []\n",
    "addToList(1, 9, starters)\n",
    "addToList(152, 160, starters)\n",
    "addToList(252, 260, starters)\n",
    "addToList(387, 395, starters)\n",
    "addToList(495, 503, starters)\n",
    "addToList(650, 658, starters)\n",
    "addToList(722, 730, starters)\n",
    "addToList(810, 818, starters)"
   ]
  },
  {
   "cell_type": "code",
   "execution_count": null,
   "id": "e52aeb4f-0625-4077-a49c-37602b51719a",
   "metadata": {
    "tags": []
   },
   "outputs": [],
   "source": [
    "pseudolegendaries = [\n",
    "    149,       # Dragonite\n",
    "    248,       # Tyranitar\n",
    "    373, 376,  # Salamence, Metagross\n",
    "    445,       # Garchomp\n",
    "    635,       # Hydreigon\n",
    "    706,       # Goodra\n",
    "    784,       # Kommo-o\n",
    "    887,       # Dragapult\n",
    "]"
   ]
  },
  {
   "cell_type": "code",
   "execution_count": null,
   "id": "19363e48-63a3-476b-ac3e-3ee40e917587",
   "metadata": {},
   "outputs": [],
   "source": [
    "legendaries = [\n",
    "    144, 145, 146, 150,                                     # Kanto\n",
    "    243, 244, 245, 249, 250,                                # Johto\n",
    "    377, 378, 379, 380, 381, 382, 383, 384,                 # Hoenn\n",
    "    481, 482, 483, 484, 485, 486, 487, 488,                 # Sinnoh\n",
    "    638, 639, 640, 641, 642, 643, 644, 645, 646,            # Unova\n",
    "    716, 717, 718,                                          # Kalos\n",
    "    772, 773, 785, 786, 787, 788, 789, 790, 791, 792, 800,  # Alola\n",
    "    888, 889, 890, 891, 892, 894, 895, 896, 897, 898,       # Galar\n",
    "]"
   ]
  },
  {
   "cell_type": "code",
   "execution_count": null,
   "id": "79953dd0-aed2-4e62-9063-284f1f9b6d29",
   "metadata": {},
   "outputs": [],
   "source": [
    "mythical = [\n",
    "    151,                 # Mew\n",
    "    251,                 # Celebi\n",
    "    385, 386,            # Jirachi, Deoxys\n",
    "    490, 491, 492, 493,  # Manaphy, Darkrai, Shaymin, Arceus\n",
    "    494, 647, 648, 649,  # Victini, Keldeo, Meloetta, Genesect\n",
    "    719, 720, 721,       # Diancie, Hoopa, Volcanion\n",
    "    801, 802, 807,       # Magearna, Marshadow, Zeraora\n",
    "    808, 809,            # Meltan, Melmetal\n",
    "    893,                 # Zarude\n",
    "]"
   ]
  },
  {
   "cell_type": "code",
   "execution_count": null,
   "id": "70ba35e5-5e3b-4fb6-8e21-36d00eb32bfd",
   "metadata": {},
   "outputs": [],
   "source": [
    "fossils = []\n",
    "addToList(138, 142, fossils)\n",
    "addToList(345, 348, fossils)\n",
    "addToList(408, 411, fossils)\n",
    "addToList(564, 567, fossils)\n",
    "addToList(696, 699, fossils)\n",
    "addToList(880, 883, fossils)"
   ]
  },
  {
   "cell_type": "code",
   "execution_count": null,
   "id": "d714af3d-c75d-4e90-b975-1f7d8ea8b1a1",
   "metadata": {},
   "outputs": [],
   "source": [
    "ultrabeasts = []\n",
    "addToList(793, 799, ultrabeasts)\n",
    "addToList(803, 806, ultrabeasts)"
   ]
  },
  {
   "cell_type": "code",
   "execution_count": null,
   "id": "7ec956c8-f6cd-4781-9d88-7885c805cc80",
   "metadata": {},
   "outputs": [],
   "source": [
    "def generation(x):\n",
    "    endNumbers = (151, 251, 386, 493, 649, 721, 809, 898)\n",
    "    for i, number in enumerate(endNumbers):\n",
    "        if x <= number:\n",
    "            return i + 1"
   ]
  },
  {
   "cell_type": "code",
   "execution_count": null,
   "id": "e45e2811-99fe-4994-a702-8e397d56aa0c",
   "metadata": {},
   "outputs": [],
   "source": [
    "gender_ratio = {\n",
    "    100: (32, 33, 34, 106, 107, 128, 236, 237, 313, 381, 414, 475, 538, 539,\n",
    "          627, 628, 641, 642, 645, 859, 860, 861),\n",
    "    (7/8*100): (1, 2, 3, 4, 5, 6, 7, 8, 9, 133, 134, 135, 136, 138, 139, 140,\n",
    "                141, 142, 143, 152, 153, 154, 155, 156, 157, 158, 159, 160,\n",
    "                175, 176, 196, 197, 252, 253, 254, 255, 256, 257, 258, 259,\n",
    "                260, 345, 346, 347, 348, 369, 387, 388, 389, 390, 391, 392,\n",
    "                393, 394, 395, 408, 409, 410, 411, 415, 446, 447, 448, 468,\n",
    "                470, 471, 495, 496, 497, 498, 499, 500, 501, 502, 503, 511,\n",
    "                512, 513, 514, 515, 516, 564, 565, 566, 567, 570, 571, 650,\n",
    "                651, 652, 653, 654, 655, 656, 657, 658, 696, 697, 698, 699,\n",
    "                700, 722, 723, 724, 725, 726, 727, 728, 729, 730, 757, 810,\n",
    "                811, 812, 813, 814, 815, 816, 817, 818, 891, 892),\n",
    "    (3/4*100): (58, 59, 63, 64, 65, 66, 67, 68, 125, 126, 239, 240, 296, 297,\n",
    "                466, 467, 532, 533, 534), \n",
    "    (1/4*100): (35, 36, 37, 38, 39, 40, 173, 174, 209, 210, 222, 298, 300,\n",
    "                301, 370, 431, 432, 572, 573, 574, 575, 576, 741, 764, 864),\n",
    "    (1/8*100): (667, 668),\n",
    "    0: (29, 30, 31, 113, 115, 124, 238, 241, 242, 314, 380, 413, 416, 440,\n",
    "        478, 488, 548, 549, 629, 630, 669, 670, 671, 758, 761, 762, 763, 856,\n",
    "        857, 858, 868, 868, 869),\n",
    "    \n",
    "    # Genderless\n",
    "    \"\": (81, 82, 100, 101, 120, 121, 132, 137, 144, 145, 146, 150, 151, 201,\n",
    "         233, 243, 244, 245, 249, 250, 251, 292, 337, 338, 343, 344, 374, 375,\n",
    "         376, 377, 378, 379, 382, 383, 384, 385, 386, 436, 437, 462, 474, 479,\n",
    "         480, 481, 482, 483, 484, 486, 487, 489, 490, 491, 492, 493, 494, 599,\n",
    "         600, 601, 615, 622, 623, 638, 639, 640, 643, 644, 646, 647, 648, 649,\n",
    "         703, 716, 717, 718, 719, 720, 721, 772, 773, 774, 781, 785, 786, 787,\n",
    "         788, 789, 790, 791, 792, 793, 794, 795, 796, 797, 798, 799, 800, 801,\n",
    "         802, 803, 804, 805, 806, 807, 808, 809, 854, 855, 870, 880, 881, 882,\n",
    "         883, 888, 889, 890, 893, 894, 895, 896, 897, 898),\n",
    "}\n",
    "\n",
    "def getGenderRatio(x):\n",
    "    for ratio, pokemon in gender_ratio.items():\n",
    "        if x in gender_ratio[ratio]:\n",
    "            return ratio\n",
    "    return 50"
   ]
  },
  {
   "cell_type": "markdown",
   "id": "ccb345a0-3b10-4089-8c61-6937c57b2b54",
   "metadata": {},
   "source": [
    "Create pandas DataFrame from the csv file, add columns for the category flags."
   ]
  },
  {
   "cell_type": "code",
   "execution_count": null,
   "id": "efd81b02-bd8b-4334-a74f-5776149833f9",
   "metadata": {},
   "outputs": [],
   "source": [
    "df = pd.read_csv(\"pokemon-new.csv\", \"|\")\n",
    "df.ability_2.fillna(df.ability_1)\n",
    "df.hidden_ability.fillna(df.ability_1)\n",
    "\n",
    "df[\"percentage_male\"] = df[\"pokedex_number\"].apply(lambda x: getGenderRatio(x))\n",
    "df[\"gen\"] = df[\"pokedex_number\"].apply(lambda x: generation(x))\n",
    "\n",
    "df[\"starter\"] = df[\"pokedex_number\"].isin(starters)\n",
    "df[\"legendary\"] = df[\"pokedex_number\"].isin(legendaries)\n",
    "df[\"mythical\"] = df[\"pokedex_number\"].isin(mythical)\n",
    "df[\"pseudo-legendary\"] = df[\"pokedex_number\"].isin(pseudolegendaries)\n",
    "df[\"ultra_beast\"] = df[\"pokedex_number\"].isin(ultrabeasts)\n",
    "df[\"mega_evolution\"] = df[\"name\"].str.contains(\"Mega \")\n",
    "df[\"fossil\"] = df[\"pokedex_number\"].isin(fossils)"
   ]
  },
  {
   "cell_type": "code",
   "execution_count": null,
   "id": "0ecb7ba6-443a-4dec-93f5-c499b15649ab",
   "metadata": {},
   "outputs": [],
   "source": [
    "df[df.mythical == False].head(50)"
   ]
  },
  {
   "cell_type": "code",
   "execution_count": null,
   "id": "8afa8002-9b3c-4a1f-9dd5-452821c5f114",
   "metadata": {},
   "outputs": [],
   "source": [
    "df.columns"
   ]
  },
  {
   "cell_type": "markdown",
   "id": "4a7f132e-ff5c-47fe-a52d-6d2b16f46668",
   "metadata": {},
   "source": [
    "The code below filters rows that have a Pokemon whose name starts with the\n",
    "letter \"A\" and removes rows with the Mega Evolution flag. The code also only \n",
    "shows the given columns using the `.loc` method."
   ]
  },
  {
   "cell_type": "code",
   "execution_count": null,
   "id": "b8d726c5-cb58-4ad9-ab8b-2f1f5f8512a5",
   "metadata": {},
   "outputs": [],
   "source": [
    "df[\n",
    "    df[\"name\"].str.startswith(\"Z\")\n",
    "    & df[\"mega_evolution\"].eq(False)\n",
    "    # & not df[\"Pokemon\"].contains(\"Alolan\")\n",
    "    # & not df[\"Pokemon\"].contains(\"Galarian\")\n",
    "].loc[\n",
    "    :, [\"pokedex_number\", \"name\", \"japanese_name\", \"category\", \"gen\", \"type_1\", \"type_2\", \"starter\",\n",
    "        \"legendary\", \"mythical\", \"pseudo-legendary\"]\n",
    "]"
   ]
  },
  {
   "cell_type": "code",
   "execution_count": null,
   "id": "a210112c-bbbb-419d-a1d0-a5f54c5c502f",
   "metadata": {},
   "outputs": [],
   "source": [
    "# df.to_csv(\"pokemon_db.csv\", sep=\"|\", index=False)"
   ]
  },
  {
   "cell_type": "code",
   "execution_count": null,
   "id": "802b283f-4821-42c6-bff2-7159e749123c",
   "metadata": {},
   "outputs": [],
   "source": []
  }
 ],
 "metadata": {
  "kernelspec": {
   "display_name": "Python 3",
   "language": "python",
   "name": "python3"
  },
  "language_info": {
   "codemirror_mode": {
    "name": "ipython",
    "version": 3
   },
   "file_extension": ".py",
   "mimetype": "text/x-python",
   "name": "python",
   "nbconvert_exporter": "python",
   "pygments_lexer": "ipython3",
   "version": "3.8.10"
  },
  "toc-autonumbering": false,
  "toc-showmarkdowntxt": false
 },
 "nbformat": 4,
 "nbformat_minor": 5
}
